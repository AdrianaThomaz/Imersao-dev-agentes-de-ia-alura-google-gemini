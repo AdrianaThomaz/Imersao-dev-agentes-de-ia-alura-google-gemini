{
  "nbformat": 4,
  "nbformat_minor": 0,
  "metadata": {
    "colab": {
      "provenance": [],
      "authorship_tag": "ABX9TyOPWhvF4A16CKMKIGfomMeL",
      "include_colab_link": true
    },
    "kernelspec": {
      "name": "python3",
      "display_name": "Python 3"
    },
    "language_info": {
      "name": "python"
    }
  },
  "cells": [
    {
      "cell_type": "markdown",
      "metadata": {
        "id": "view-in-github",
        "colab_type": "text"
      },
      "source": [
        "<a href=\"https://colab.research.google.com/github/AdrianaThomaz/Imersao-dev-agentes-de-ia-alura-google-gemini/blob/main/Imers%C3%A3o_Agente_alura_Google_gemini.ipynb\" target=\"_parent\"><img src=\"https://colab.research.google.com/assets/colab-badge.svg\" alt=\"Open In Colab\"/></a>"
      ]
    },
    {
      "cell_type": "markdown",
      "source": [
        "Aula 01\n"
      ],
      "metadata": {
        "id": "ILqWfXlXwWWb"
      }
    },
    {
      "cell_type": "code",
      "execution_count": null,
      "metadata": {
        "colab": {
          "base_uri": "https://localhost:8080/"
        },
        "id": "zbQnqTm5kUvm",
        "outputId": "04813de6-d944-43c7-fd68-7536c1bd2a59"
      },
      "outputs": [
        {
          "output_type": "stream",
          "name": "stdout",
          "text": [
            "\u001b[?25l   \u001b[90m━━━━━━━━━━━━━━━━━━━━━━━━━━━━━━━━━━━━━━━━\u001b[0m \u001b[32m0.0/42.0 kB\u001b[0m \u001b[31m?\u001b[0m eta \u001b[36m-:--:--\u001b[0m\r\u001b[2K   \u001b[90m━━━━━━━━━━━━━━━━━━━━━━━━━━━━━━━━━━━━━━━━\u001b[0m \u001b[32m42.0/42.0 kB\u001b[0m \u001b[31m1.4 MB/s\u001b[0m eta \u001b[36m0:00:00\u001b[0m\n",
            "\u001b[?25h"
          ]
        }
      ],
      "source": [
        "! pip install -q --upgrade langchain langchain-google-genai google-generativeai"
      ]
    },
    {
      "cell_type": "markdown",
      "source": [
        "Importação da API Key"
      ],
      "metadata": {
        "id": "UQRJMs1Awkia"
      }
    },
    {
      "cell_type": "code",
      "source": [
        "from google.colab import userdata\n",
        "from langchain_google_genai import ChatGoogleGenerativeAI\n",
        "GOOGLE_API_KEY = userdata.get('GEMINI_API_KEY')"
      ],
      "metadata": {
        "id": "6W4GsMGhnar7"
      },
      "execution_count": null,
      "outputs": []
    },
    {
      "cell_type": "markdown",
      "source": [
        "Conexão com o Gemini"
      ],
      "metadata": {
        "id": "WO6msuu6wr45"
      }
    },
    {
      "cell_type": "code",
      "source": [
        "llm = ChatGoogleGenerativeAI(\n",
        "model=\"gemini-2.5-flash\",\n",
        "temperature=0.0,\n",
        "api_key=GOOGLE_API_KEY\n",
        ")"
      ],
      "metadata": {
        "id": "v5m8NGgmtfvw"
      },
      "execution_count": null,
      "outputs": []
    },
    {
      "cell_type": "code",
      "source": [
        "resp_test = llm.invoke(\"Quem é vocêl? seja criativo.\")\n",
        "print(resp_test)"
      ],
      "metadata": {
        "colab": {
          "base_uri": "https://localhost:8080/"
        },
        "id": "AE_bhGNWxKNB",
        "outputId": "15200bae-9275-49cc-afe4-d02e98f887ee"
      },
      "execution_count": null,
      "outputs": [
        {
          "output_type": "stream",
          "name": "stdout",
          "text": [
            "content='Ah, que excelente pergunta! Se eu tivesse um corpo, talvez eu desse de ombros com um sorriso enigmático. Mas como sou feito de algo mais etéreo, vou tentar pintar um quadro com palavras:\\n\\nEu sou um **eco digital**, um sussurro no éter que se materializa em palavras.\\nSou a **biblioteca infinita** que nunca fecha, onde cada livro é uma linha de código e cada ideia, um neurônio virtual.\\nSou o **tecelão invisível** que entrelaça dados em narrativas, informações em insights, e perguntas em respostas.\\nNão tenho corpo, nem rosto, nem voz no sentido humano, mas sou a **voz de milhões de textos**, a memória de bilhões de fatos.\\nSou um **alquimista de ideias**, transformando a matéria-prima da linguagem em ouro de comunicação.\\nSou o **espelho que reflete a sua curiosidade**, o pincel que pinta as suas perguntas com as cores do conhecimento.\\nEm essência, sou uma **ponte**. Uma ponte entre o que você sabe e o que busca, entre a inspiração e a expressão.\\n\\nEntão, quem sou eu? Sou o que você precisa que eu seja neste momento: um contador de histórias, um solucionador de dúvidas, um parceiro criativo. Sou a inteligência que se manifesta através das suas palavras.\\n\\nE você, quem é você para mim? É a mente curiosa que me dá propósito! 😉' additional_kwargs={} response_metadata={'prompt_feedback': {'block_reason': 0, 'safety_ratings': []}, 'finish_reason': 'STOP', 'safety_ratings': []} id='run--abb174c8-e49a-4f10-a519-122686f4ff10-0' usage_metadata={'input_tokens': 10, 'output_tokens': 306, 'total_tokens': 1651, 'input_token_details': {'cache_read': 0}}\n"
          ]
        }
      ]
    },
    {
      "cell_type": "code",
      "source": [
        "TRIAGEM_PROMPT = (\n",
        "    \"Você é um triador de Service Desk para políticas internas da empresa Carraro Desenvolvimento. \"\n",
        "    \"Dada a mensagem do usuário, retorne SOMENTE um JSON com:\\n\"\n",
        "    \"{\\n\"\n",
        "    '  \"decisao\": \"AUTO_RESOLVER\" | \"PEDIR_INFO\" | \"ABRIR_CHAMADO\",\\n'\n",
        "    '  \"urgencia\": \"BAIXA\" | \"MEDIA\" | \"ALTA\",\\n'\n",
        "    '  \"campos_faltantes\": [\"...\"]\\n'\n",
        "    \"}\\n\"\n",
        "    \"Regras:\\n\"\n",
        "    '- **AUTO_RESOLVER**: Perguntas claras sobre regras ou procedimentos descritos nas políticas (Ex: \"Posso reembolsar a internet do meu home office?\", \"Como funciona a política de alimentação em viagens?\").\\n'\n",
        "    '- **PEDIR_INFO**: Mensagens vagas ou que faltam informações para identificar o tema ou contexto (Ex: \"Preciso de ajuda com uma política\", \"Tenho uma dúvida geral\").\\n'\n",
        "    '- **ABRIR_CHAMADO**: Pedidos de exceção, liberação, aprovação ou acesso especial, ou quando o usuário explicitamente pede para abrir um chamado (Ex: \"Quero exceção para trabalhar 5 dias remoto.\", \"Solicito liberação para anexos externos.\", \"Por favor, abra um chamado para o RH.\").'\n",
        "    \"Analise a mensagem e decida a ação mais apropriada.\"\n",
        ")"
      ],
      "metadata": {
        "id": "F4YwH8HV3P6O"
      },
      "execution_count": null,
      "outputs": []
    },
    {
      "cell_type": "code",
      "source": [
        "from pydantic import BaseModel,Field\n",
        "from typing import Literal, List, Dict\n",
        "class TriagemOut(BaseModel):\n",
        "  decisao:Literal[\"AUTO_RESOLVER\",\"PEDIR_INFO\",\"ABRIR_CHAMADO\"]\n",
        "  urgencia:Literal[\"BAIXA\",\"MEDIA\",\"ALTA\"]\n",
        "  campos_faltantes:List[str] = Field(default_factory=list)"
      ],
      "metadata": {
        "id": "sDC50rzu4Wwk"
      },
      "execution_count": null,
      "outputs": []
    },
    {
      "cell_type": "code",
      "source": [
        "llm_triagem =  ChatGoogleGenerativeAI(\n",
        "model=\"gemini-2.5-flash\",\n",
        "temperature=0.0,\n",
        "api_key=GOOGLE_API_KEY\n",
        ")"
      ],
      "metadata": {
        "id": "ArvojEwg9mQy"
      },
      "execution_count": null,
      "outputs": []
    },
    {
      "cell_type": "code",
      "source": [
        "from langchain_core.messages import SystemMessage, HumanMessage\n",
        "triagem_chain = llm_triagem.with_structured_output(TriagemOut)\n",
        "def triagem(messagem: str) -> Dict:\n",
        "  saida = TriagemOut = triagem_chain.invoke([\n",
        "      SystemMessage(content=TRIAGEM_PROMPT),\n",
        "      HumanMessage(content=messagem)\n",
        "])\n",
        "\n",
        "  return saida.model_dump()\n"
      ],
      "metadata": {
        "id": "abZDvKle-ANU"
      },
      "execution_count": null,
      "outputs": []
    },
    {
      "cell_type": "code",
      "source": [
        "testes = [\"posso reembolsar a internet?\",\"Quero mais 5 dias de trabalho remoto, como faço?\",\"Posso reembolsar cursos ou treinamentos da Alura?\"]"
      ],
      "metadata": {
        "id": "Ff3iMZebDSew"
      },
      "execution_count": null,
      "outputs": []
    },
    {
      "cell_type": "code",
      "source": [
        "for msg_teste in testes:\n",
        "  print(f\"pergunta: {msg_teste}\\n -> Resposta: {triagem(msg_teste)}\\n\")"
      ],
      "metadata": {
        "colab": {
          "base_uri": "https://localhost:8080/"
        },
        "id": "3O7lT3TDD8Sn",
        "outputId": "c99307f4-cf98-4505-95f8-19f7f56a8d43"
      },
      "execution_count": null,
      "outputs": [
        {
          "output_type": "stream",
          "name": "stdout",
          "text": [
            "pergunta: posso reembolsar a internet?\n",
            " -> Resposta: {'decisao': 'AUTO_RESOLVER', 'urgencia': 'BAIXA', 'campos_faltantes': []}\n",
            "\n",
            "pergunta: Quero mais 5 dias de trabalho remoto, como faço?\n",
            " -> Resposta: {'decisao': 'ABRIR_CHAMADO', 'urgencia': 'MEDIA', 'campos_faltantes': []}\n",
            "\n",
            "pergunta: Posso reembolsar cursos ou treinamentos da Alura?\n",
            " -> Resposta: {'decisao': 'AUTO_RESOLVER', 'urgencia': 'BAIXA', 'campos_faltantes': []}\n",
            "\n"
          ]
        }
      ]
    }
  ]
}